{
 "cells": [
  {
   "cell_type": "markdown",
   "metadata": {},
   "source": [
    "# Тематическая модель [Постнауки](http://postnauka.ru)\n",
    "## Peer Review (optional)"
   ]
  },
  {
   "cell_type": "markdown",
   "metadata": {},
   "source": [
    "В этом задании мы применим аппарат тематического моделирования к коллекции текстовых записей видеолекций, скачанных с сайта Постнаука. Мы будем визуализировать модель и создавать прототип тематического навигатора по коллекции. В коллекции 1728 документов, размер словаря - 38467 слов. Слова лемматизированы, то есть приведены к начальной форме, с помощью программы [mystem](https://tech.yandex.ru/mystem/), коллекция сохранена в [формате vowpal wabbit](http://docs.bigartm.org/en/latest/formats.html). В каждой строке до первой черты записана информация о документе (ссылка на страницу с лекцией), после первой черты следует описание документа. Используются две модальности - текстовая (\"text\") и модальность авторов (\"author\"); у каждого документа один автор."
   ]
  },
  {
   "cell_type": "markdown",
   "metadata": {},
   "source": [
    "Для выполнения задания понадобится библиотека [BigARTM](http://docs.bigartm.org). В демонстрации показан пример использования библиотеки версии 0.7.4, на сайте предлагается скачивать версию 0.8.0. В новой версии изменены принципы работы со словарями: они вынесены в отдельный класс (пример в [Release Notes](http://docs.bigartm.org/en/stable/release_notes/python.html)). Строить модель и извлекать ее параметры нужно так же, как показано в демонстрации. Вы можете использовать [предыдущий релиз](http://bigartm.readthedocs.io/en/v0.7.6/download.html) или [новый релиз](http://docs.bigartm.org/en/latest/download.html) на ваше усмотрение.\n",
    "\n",
    "Спецификации всех функций вы можете смотреть на странице [Python API](http://bigartm.readthedocs.io/en/stable/python_interface.html)."
   ]
  },
  {
   "cell_type": "code",
   "execution_count": 1,
   "metadata": {},
   "outputs": [],
   "source": [
    "import artm"
   ]
  },
  {
   "cell_type": "code",
   "execution_count": 2,
   "metadata": {},
   "outputs": [],
   "source": [
    "from matplotlib import pyplot as plt\n",
    "import seaborn\n",
    "%matplotlib inline\n",
    "seaborn.set_style(\"whitegrid\", {'axes.grid' : False})"
   ]
  },
  {
   "cell_type": "code",
   "execution_count": 3,
   "metadata": {},
   "outputs": [],
   "source": [
    "import numpy as np\n",
    "import pandas as pd"
   ]
  },
  {
   "cell_type": "markdown",
   "metadata": {},
   "source": [
    "##### Считывание данных"
   ]
  },
  {
   "cell_type": "markdown",
   "metadata": {},
   "source": [
    "Создайте объект класса artm.BatchVectorizer, который будет ссылаться на директорию с пакетами данных (батчами). Чтобы библиотека могла преобразовать текстовый файл в батчи, создайте пустую директорию и укажите ее название в параметре target_folder. Размер батча для небольших коллекций (как наша) не важен, вы можете указать любой."
   ]
  },
  {
   "cell_type": "code",
   "execution_count": 4,
   "metadata": {},
   "outputs": [],
   "source": [
    "# Ваш код\n",
    "batch_vectorizer = artm.BatchVectorizer(data_path=\"lectures.txt\", data_format=\"vowpal_wabbit\", target_folder=\"batches\")"
   ]
  },
  {
   "cell_type": "markdown",
   "metadata": {},
   "source": [
    "##### Инициализация модели"
   ]
  },
  {
   "cell_type": "markdown",
   "metadata": {},
   "source": [
    "Создайте объект класса artm.Model с 30 темами, именами тем, указанными ниже и единичными весами обеих модальностей. Количество тем выбрано не очень большим, чтобы вам было удобнее работать с темами. На этой коллекции можно строить и большее число тем, тогда они будут более узко специализированы."
   ]
  },
  {
   "cell_type": "code",
   "execution_count": 7,
   "metadata": {},
   "outputs": [],
   "source": [
    "T = 30   # количество тем\n",
    "topic_names=[\"sbj\"+str(i) for i in range(T-1)]+[\"bcg\"]\n",
    "# Ваш код\n",
    "model_artm = artm.ARTM(num_topics=T, topic_names=topic_names, \n",
    "                  class_ids={'text':1, 'author':1},\n",
    "                  cache_theta=True, seed=1)"
   ]
  },
  {
   "cell_type": "markdown",
   "metadata": {},
   "source": [
    "Мы будем строить 29 предметных тем и одну фоновую. \n",
    "\n",
    "Соберите словарь с помощью метода gather_dictionary и инициализируйте модель, указав random_seed=1. Обязательно укажите свое название словаря, оно понадобится при добавлении регуляризаторов."
   ]
  },
  {
   "cell_type": "code",
   "execution_count": 8,
   "metadata": {},
   "outputs": [],
   "source": [
    "# Ваш код\n",
    "dictionary = artm.Dictionary(name='dictionary')\n",
    "dictionary.gather(batch_vectorizer.data_path )\n",
    "\n",
    "model_artm.initialize(dictionary)"
   ]
  },
  {
   "cell_type": "markdown",
   "metadata": {},
   "source": [
    "##### Добавление score"
   ]
  },
  {
   "cell_type": "markdown",
   "metadata": {},
   "source": [
    "Создайте два измерителя качества artm.TopTokensScore - по одному для каждой модальности; количество токенов 15. Названия для score придумайте самостоятельно."
   ]
  },
  {
   "cell_type": "code",
   "execution_count": 9,
   "metadata": {},
   "outputs": [],
   "source": [
    "# Ваш код\n",
    "model_artm.scores.add(artm.TopTokensScore(name=\"top_words_text\", num_tokens=15, class_id=\"text\"))\n",
    "model_artm.scores.add(artm.TopTokensScore(name=\"top_author\", num_tokens=15, class_id=\"author\"))"
   ]
  },
  {
   "cell_type": "markdown",
   "metadata": {},
   "source": [
    "##### Построение модели"
   ]
  },
  {
   "cell_type": "markdown",
   "metadata": {},
   "source": [
    "Мы будем строить модель в два этапа: сначала добавим сглаживающий регуляризатор фоновой темы и настроим параметры модели, затем - добавим разреживающий регуляризатор предметрых тем и выполним еще несколько итераций. Так мы сможем получить наиболее чистые от фоновых слов предметные темы. Сглаживающий и разреживающий регуляризаторы задаются одним и тем же классом artm.SmoothSparsePhiRegularizer: если коэффициент tau положительный, то регуляризатор будет сглаживающий, если отрицательный - разреживающий.\n",
    "\n",
    "Если вы хотите подробнее разобраться, как выполняется регуляризация тематической модели в BigARTM, вы можете прочитать [статью](https://s3-eu-west-1.amazonaws.com/artm/voron-potap14artm-rus.pdf), раздел 4."
   ]
  },
  {
   "cell_type": "markdown",
   "metadata": {},
   "source": [
    "Добавьте сглаживающий регуляризатор с коэффициентом tau = 1e5, указав название своего словаря в dictionary, модальность текста в class_ids и тему \"bcg\" в topic_names."
   ]
  },
  {
   "cell_type": "code",
   "execution_count": 10,
   "metadata": {},
   "outputs": [],
   "source": [
    "# Ваш код\n",
    "model_artm.regularizers.add(artm.SmoothSparsePhiRegularizer(\n",
    "    name='Regularizer1', tau=1e5, dictionary='dictionary',\n",
    "    class_ids=\"text\",topic_names=\"bcg\"))"
   ]
  },
  {
   "cell_type": "markdown",
   "metadata": {},
   "source": [
    "Выполните 30 итераций по коллекции (num_collection_passes), количество внутренних итераций установите равным 1. Используйте метод fit_offline модели."
   ]
  },
  {
   "cell_type": "code",
   "execution_count": 11,
   "metadata": {},
   "outputs": [],
   "source": [
    "# Ваш код\n",
    "model_artm.fit_offline(batch_vectorizer=batch_vectorizer, num_collection_passes=30)"
   ]
  },
  {
   "cell_type": "markdown",
   "metadata": {},
   "source": [
    "Добавьте разреживающий регуляризатор с коэффициентом tau=-1e5, указав название своего словаря, модальность текста в class_ids и все темы \"sbjX\" в topic_names."
   ]
  },
  {
   "cell_type": "code",
   "execution_count": 12,
   "metadata": {},
   "outputs": [],
   "source": [
    "# Ваш код\n",
    "model_artm.regularizers.add(artm.SmoothSparsePhiRegularizer(\n",
    "    name='Regularizer2', tau=-1e5, dictionary='dictionary',\n",
    "    class_ids=\"text\", topic_names=topic_names[:-1]))"
   ]
  },
  {
   "cell_type": "markdown",
   "metadata": {},
   "source": [
    "Выполните еще 15 проходов по коллекции."
   ]
  },
  {
   "cell_type": "code",
   "execution_count": 13,
   "metadata": {},
   "outputs": [],
   "source": [
    "# Ваш код\n",
    "model_artm.fit_offline(batch_vectorizer=batch_vectorizer, num_collection_passes=15)"
   ]
  },
  {
   "cell_type": "markdown",
   "metadata": {},
   "source": [
    "##### Интерпретация тем"
   ]
  },
  {
   "cell_type": "markdown",
   "metadata": {},
   "source": [
    "Используя созданные score, выведите топы слов и топы авторов в темах. Удобнее всего выводить топ слов каждой темы с новой строки, указывая название темы в начале строки, и аналогично с авторами."
   ]
  },
  {
   "cell_type": "code",
   "execution_count": 14,
   "metadata": {},
   "outputs": [
    {
     "name": "stdout",
     "output_type": "stream",
     "text": [
      "sbj0: \n",
      "\t Top words: частица, энергия, взаимодействие, физика, кварк, симметрия, элементарный, нейтрино, стандартный, материя, заряд, протон, масса, бозон, ускоритель, \n",
      "\n",
      "\t Top authors: Дмитрий_Казаков, Михаил_Данилов, Сергей_Майоров, Павел_Пахлов, Виктор_Брагута, Лев_Дудко, Сергей_Троицкий, Эдуард_Боос, Лев_Беклемишев, Анатолий_Лиходед, Игорь_Волобуев, Валерий_Рубаков, Аркадий_Цейтлин, Дэвид_Гросс, Жан-Арыс_Джилкибаев, \n",
      "\n",
      "sbj1: \n",
      "\t Top words: материал, температура, структура, химический, вещество, соединение, поверхность, свойство, химия, молекула, давление, углерод, сверхпроводимость, металл, полимер, \n",
      "\n",
      "\t Top authors: Артем_Оганов, Валерий_Фокин, Дмитрий_Паращук, Валентин_Ненайденко, Владимир_Пудалов, Дмитрий_Гольберг, Иван_Сорокин, Евгений_Гудилин, Валентин_Крапошин, Пётр_Образцов, Дмитрий_Клинов, Алексей_Хохлов, Владимир_Комлев, Евгений_Антипов, Сергей_Морозов, \n",
      "\n",
      "sbj2: \n",
      "\t Top words: политический, государство, власть, царь, партия, церковь, народ, правитель, император, средневековый, враг, сага, шмитт, государь, папа, \n",
      "\n",
      "\t Top authors: Александр_Марей, Кирилл_Мартынов, Алексей_Юдин, Михаил_Бойцов, Александр_Павлов, Фёдор_Успенский, Иван_Ладынин, Дина_Гусейнова, Рафаэль_Арутюнян, Ольга_Тогоева, Александр_Воеводский, Юрий_Рогулёв, Владимир_Малахов, Владимир_Петрухин, Руслан_Хестанов, \n",
      "\n",
      "sbj3: \n",
      "\t Top words: знание, социология, социологический, познание, школа, предмет, социолог, факультет, виктор, аргумент, концепт, кафедра, логика, высказывание, прикладной, \n",
      "\n",
      "\t Top authors: Виктор_Вахштайн, Андрей_Лукашов, Максим_Демин, Татьяна_Клячко, Борис_Миркин, Алексей_Котов, Дмитрий_Балалыкин, Сергей_Зенкин, Татьяна_Котова, Максим_Кронгауз, Владимир_Миронов, Ян_Левченко, Алексей_Рубцов, Александр_Филиппов, Михаил_Маяцкий, \n",
      "\n",
      "sbj4: \n",
      "\t Top words: мозг, нейрон, мышление, предложение, категория, чтение, взрослый, синтаксический, синтаксис, лицо, обезьяна, детство, шимпанзе, библиотека, игрушка, \n",
      "\n",
      "\t Top authors: Филипп_Хайтович, Владимир_Спиридонов, Надежда_Онипенко, Александр_Каплан, Ольга_Сварник, Александр_Лазуткин, Екатерина_Лютикова, Вера_Подлесская, Зоя_Зорина, Жанна_Резникова, Екатерина_Болтунова, Мария_Полински, Митчел_Резник, Ирина_Секерина, Дарья_Радченко, \n",
      "\n",
      "sbj5: \n",
      "\t Top words: бог, миф, греческий, герой, мифология, религия, душа, ритуал, грек, море, мифологический, гусейнов, божество, культ, шумерский, \n",
      "\n",
      "\t Top authors: Гасан_Гусейнов, Кирилл_Еськов, Владимир_Емельянов, Галина_Зеленина, Андрей_Иванцов, Аскольд_Иванчик, Варвара_Добровольская, Олег_Ауров, Владимир_Петрухин, Светлана_Евграфова, Ольга_Тогоева, Александр_Воеводский, Андрей_Журавлев, Григорий_Бондаренко, Сергей_Неклюдов, \n",
      "\n",
      "sbj6: \n",
      "\t Top words: русский, слово, текст, словарь, перевод, корпус, гласный, согласный, говор, немецкий, древнерусский, академия, цитата, произносить, издание, \n",
      "\n",
      "\t Top authors: Игорь_Исаев, Александр_Пиперски, Борис_Морозов, Илья_Иткин, Павел_Руднев, Дмитрий_Добровольский, Леонид_Иомдин, Алексей_Бартошевич, Илья_Виньковецкий, Анастасия_Лопухина, Петр_Дружинин, Алина_Бодрова, Борис_Иомдин, Александр_Ватлин, Анатолий_Гершман, \n",
      "\n",
      "sbj7: \n",
      "\t Top words: раса, трудность, африка, праздник, шаман, станислав, нос, америка, монголоид, дробышевский, остров, тест, шаманский, индеец, задание, \n",
      "\n",
      "\t Top authors: Станислав_Дробышевский, Михаил_Пантелеев, Александр_Поддьяков, Екатерина_Ларионова, Елена_Браун, Мария_Медникова, Дмитрий_Жуков, Валентина_Харитонова, Григорий_Юдин, Марк_Харрисон, Александр_Воеводский, Михаил_Алексеевский, Андрей_Летаров, Андрей_Коротаев, \n",
      "\n",
      "sbj8: \n",
      "\t Top words: право, римский, правовой, юрист, суд, юридический, должник, собственность, обязательство, владение, собственник, исполнение, рим, имущество, кредитор, \n",
      "\n",
      "\t Top authors: Дмитрий_Дождев, Александр_Марей, Татьяна_Бобровникова, Денис_Новак, Дмитрий_Полдников, Фёдор_Успенский, Анна_Севортьян, Виктор_Задков, Андрей_Глазовский, Ольга_Вайнштейн, ПостНаука, Виктор_Полтерович, Алексей_Шмелев, Павел_Нерлер_(Полян), Сет_Ллойд, \n",
      "\n",
      "sbj9: \n",
      "\t Top words: болезнь, заболевание, пациент, лечение, врач, медицина, боль, препарат, медицинский, лекарство, иммунный, сон, операция, опухоль, сердце, \n",
      "\n",
      "\t Top authors: Егор_Задереев, Ярослав_Ашихмин, Алексей_Алексеев, Юрий_Яшков, Сергей_Румянцев, Олег_Медведев, Вера_Ижевская, Александр_Васильев, Алексей_Чжао, Петр_Федичев, Эмери_Браун, Александр_Петренко, Леонид_Марголис, Марина_Бутовская, Денис_Сивков, \n",
      "\n",
      "sbj10: \n",
      "\t Top words: животное, робот, вода, растение, организм, микроорганизм, рецептор, биологический, кислород, метан, мембрана, океан, микроб, мышца, популяция, \n",
      "\n",
      "\t Top authors: Елизавета_Бонч-Осмоловская, Алла_Ножевникова, Дмитрий_Лось, Александр_Марков, Дмитрий_Громов, Николай_Пименов, Светлана_Дедыш, Сергей_Наугольных, Светлана_Боринская, Алексей_Кондрашов, Зоригто_Намсараев, Алексей_Северцов, Виктор_Зайченко, Мария_Добровольская, Евгений_Магид, \n",
      "\n",
      "sbj11: \n",
      "\t Top words: память, психология, восприятие, психологический, сознание, когнитивный, психолог, внимание, эмоциональный, зрительный, ощущение, активность, нервный, психический, запоминать, \n",
      "\n",
      "\t Top authors: Мария_Фаликман, Кирилл_Титаев, Константин_Анохин, Павел_Балабан, Игорь_Уточкин, Максим_Таланов, Алексей_Созинов, Мира_Бергельсон, Виталий_Дунин-Барковский, Ольга_Сварник, Максим_Киселев, Сергей_Саложин, Александр_Тхостов, Владимир_Спиридонов, Евгений_Николаев, \n",
      "\n",
      "sbj12: \n",
      "\t Top words: германия, университет, русь, святой, князь, немецкий, андрей, византийский, апостол, польский, илья, византия, иван, федор, повесть, \n",
      "\n",
      "\t Top authors: Илья_Женин, Фёдор_Успенский, Игорь_Данилевский, Кирилл_Кочегаров, Елена_Уханова, Сергей_Серёгичев, Елена_Вишленкова, Андрей_Виноградов, Александр_Лаврентьев, Андрей_Кофман, Ахмет_Ярлыкапов, Александр_Дмитриев, Владимир_Петрухин, Екатерина_Лямина, Елена_Браун, \n",
      "\n",
      "sbj13: \n",
      "\t Top words: город, социальный, общество, наука, исторический, история, рассказывать, понятие, кандидат, политика, культурный, российский, каков, городской, искусство, \n",
      "\n",
      "\t Top authors: Виталий_Куренной, Елена_Брызгалина, Дмитрий_Рогозин, Павел_Уваров, Владимир_Малахов, Ольга_Малинова, Ольга_Артёмова, Александр_Гофман, Александр_Жаворонков, ПостНаука, Наталья_Смолянская, Леонид_Григорьев, Пётр_Турчин, Владимир_Бобровников, Сергей_Соколовский, \n",
      "\n",
      "sbj14: \n",
      "\t Top words: галактика, планета, земля, черный, дыра, газ, масса, диск, атмосфера, солнце, солнечный, скопление, расстояние, спутник, вокруг, \n",
      "\n",
      "\t Top authors: Сергей_Попов, Алексей_Расторгуев, Ольга_Сильченко, Владимир_Сурдин, Дмитрий_Вибе, Владимир_Кузнецов, Дмитрий_Титов, Александр_Шацкий, Наталья_Новикова, Роман_Рафиков, Сергей_Писарев, Андрей_Глазовский, Сергей_Таскаев, Эмиль_Ахмедов, Зоригто_Намсараев, \n",
      "\n",
      "sbj15: \n",
      "\t Top words: решение, экономический, экономика, деньги, компания, принятие, оценка, критерий, рынок, выбор, экономист, ценность, финансовый, банк, поведенческий, \n",
      "\n",
      "\t Top authors: Фуад_Алескеров, Алексей_Белянин, Сергей_Бобылев, Владимир_Гимпельсон, Александр_Аузан, Сергей_Афонцев, Антон_Суворов, Ксения_Паниди, Татьяна_Клячко, Василий_Ключарев, Александр_Тормасов, Сергей_Зыков, Джу_Йонг_Ли, Эрик_Мэскин, Константин_Воронцов, \n",
      "\n",
      "sbj16: \n",
      "\t Top words: ребенок, женщина, поведение, семья, эмоция, личность, мужчина, коллективный, конфликт, мать, родитель, стратегия, личностный, метро, идентичность, \n",
      "\n",
      "\t Top authors: Михаил_Соколов, Катерина_Поливанова, Наталья_Харламенкова, Ольга_Исупова, Мария_Падун, Ольга_Гулевич, Наталья_Кисельникова, Татьяна_Котова, Максим_Киселев, Екатерина_Щербакова, Махзарин_Банаджи, Василий_Ключарев, Дмитрий_Куракин, Арсений_Хитров, Александр_Войскунский, \n",
      "\n",
      "sbj17: \n",
      "\t Top words: задача, данные, компьютер, сеть, программа, компьютерный, алгоритм, интеллект, искусственный, интернет, вычислительный, обучение, пользователь, ошибка, разработка, \n",
      "\n",
      "\t Top authors: Михаил_Бурцев, Александр_Сафонов, Станислав_Протасов, Александр_Беленький, Илья_Шкредов, Дмитрий_Ветров, Руслан_Смелянский, Ольга_Брилева, Александр_Дьяконов, Сезар_Идальго, Станислав_Клименко, Даниэль_Сельва, Мануэль_Маццара, Евгений_Зуев, Григорий_Кабатянский, \n",
      "\n",
      "sbj18: \n",
      "\t Top words: территория, империя, восток, древний, письменность, китай, памятник, северный, восточный, китайский, население, южный, регион, письмо, народ, \n",
      "\n",
      "\t Top authors: Дмитрий_Беляев, Георгий_Старостин, Марк_Ульянов, Анна_Дыбо, Дмитрий_Худяков, Сергей_Арутюнов, Алексей_Лебедев, Наталья_Зубаревич, Виктория_Битюкова, Евгений_Рогожин, Павел_Плечов, Александр_Мещеряков, Галина_Ершова, Григорий_Бондаренко, Елена_Голубева, \n",
      "\n",
      "sbj19: \n"
     ]
    },
    {
     "name": "stdout",
     "output_type": "stream",
     "text": [
      "\t Top words: клетка, ген, днк, белок, организм, генетический, молекула, геном, бактерия, рнк, биологический, мутация, молекулярный, ткань, вирус, \n",
      "\n",
      "\t Top authors: Евгений_Шеваль, Константин_Северинов, Михаил_Гельфанд, Максим_Франк-Каменецкий, Сергей_Киселев, Антон_Буздин, Виталий_Кушниров, Петр_Федичев, Сергей_Науменко, Андрей_Летаров, Владимир_Муронец, Александр_Апт, Роман_Ефремов, Сергей_Саложин, Александр_Габибов, \n",
      "\n",
      "sbj20: \n",
      "\t Top words: квантовый, поле, атом, магнитный, электрон, свет, волна, фотон, эффект, измерение, оптический, ток, частота, жидкость, импульс, \n",
      "\n",
      "\t Top authors: Алексей_Рубцов, Алексей_Акимов, Владимир_Белотелов, Михаил_Киселев, Владимир_Мележик, Андрей_Савельев-Трофимов, Сергей_Демокритов, Юджин_Ползик, Наталья_Берлофф, Алексей_Желтиков, Александр_Львовский, Владимир_Шалаев, Виталий_Пальчиков, Сергей_Кулик, Андрей_Семенов, \n",
      "\n",
      "sbj21: \n",
      "\t Top words: культура, философия, философский, литература, философ, литературный, произведение, роман, автор, платон, поэт, анекдот, писатель, сочинение, мысль, \n",
      "\n",
      "\t Top authors: Алексей_Козырев, Иван_Болдырев, Олег_Лекманов, Александр_Доброхотов, Петр_Резвых, Александра_Архипова, Мария_Неклюдова, Алексей_Руткевич, Наталья_Ростиславлева, Сергей_Зенкин, Ольга_Вайнштейн, Владимир_Кантор, Дмитрий_Иванов, Андрей_Кофман, Арсений_Хитров, \n",
      "\n",
      "sbj22: \n",
      "\t Top words: революция, король, страна, государственный, французский, реформа, петр, франция, против, сталин, историк, крестьянин, террор, диктатура, смерть, \n",
      "\n",
      "\t Top authors: Олег_Хлевнюк, Дмитрий_Бовыкин, Кирилл_Соловьев, Ольга_Эдельман, Игорь_Курукин, Олег_Мельник, Павел_Уваров, Алина_Бодрова, Екатерина_Лямина, Ольга_Вайнштейн, Дмитрий_Дагаев, Борис_Колоницкий, Александр_Лаврентьев, Александр_Каменский, Александр_Марей, \n",
      "\n",
      "sbj23: \n",
      "\t Top words: война, россия, советский, мировой, военный, союз, гражданский, песня, армия, обряд, самка, ссср, самец, эмиграция, большевик, \n",
      "\n",
      "\t Top authors: Ирина_Бёме, Анна_Соколова, Олег_Будницкий, Вера_Мильчина, Варвара_Веденина, Василий_Жарков, Борис_Колоницкий, Людмила_Новикова, Илья_Кукулин, Алексей_Киличенков, Руслан_Хестанов, Олег_Ауров, Михаил_Бойцов, Марк_Харрисон, Пол_Грегори, \n",
      "\n",
      "sbj24: \n",
      "\t Top words: язык, христианский, лингвист, христианство, глагол, лингвистика, языковой, христианин, грамматика, филологический, арабский, падеж, английский, лингвистический, сирийский, \n",
      "\n",
      "\t Top authors: Алексей_Муравьёв, Владимир_Плунгян, Олег_Воскобойников, Андрей_Кибрик, Кирилл_Бабаев, Мария_Штейнман, Светлана_Бурлак, Петр_Аркадьев, Владимир_Беликов, Нина_Сумбатова, Максим_Кронгауз, Ирина_Левонтина, Александр_Пиперски, Екатерина_Протасова, Алексей_Касьян, \n",
      "\n",
      "sbj25: \n",
      "\t Top words: теория, пространство, математический, уравнение, матрица, математика, описывать, описание, эйнштейн, относительность, линейный, теоретический, геометрия, механика, математик, \n",
      "\n",
      "\t Top authors: Эмиль_Ахмедов, Илья_Щуров, Андрей_Лосев, Алексей_Семихатов, Иван_Оселедец, Елена_Гороховская, Павел_Лушников, Армен_Сергеев, Владимир_Редько, Игорь_Петров, Владимир_Каганский, Игорь_Волобуев, Сергей_Нечаев, Сергей_Ландо, Александра_Скрипченко, \n",
      "\n",
      "sbj26: \n",
      "\t Top words: театр, костюм, актер, пьеса, театральный, сцена, фильтр, скелет, телесный, зритель, термоэлектрический, порнография, фрейм, одежда, воображение, \n",
      "\n",
      "\t Top authors: Раиса_Кирсанова, Сергей_Пекарский, Григорий_Крейдлин, Светлана_Евграфова, Борис_Миркин, Андрей_Журавлев, Махзарин_Банаджи, Андрей_Шевельков, Денис_Загарин, Екатерина_Протасова, Игорь_Чубаров, Жанна_Резникова, Мария_Фаликман, Александр_Пиперски, Алексей_Чжао, \n",
      "\n",
      "sbj27: \n",
      "\t Top words: звезда, вселенная, излучение, скорость, объект, телескоп, космический, белый, гравитационный, нейтронный, карлик, вещество, темный, спектр, измерять, \n",
      "\n",
      "\t Top authors: Сергей_Попов, Анатолий_Засов, Дмитрий_Горбунов, Олег_Верходанов, Валерий_Сулейманов, Михаил_Ревнивцев, Алексей_Старобинский, Валерий_Рубаков, Дмитрий_Вибе, Антон_Бирюков, Макс_Тегмарк, Сергей_Блинников, Александр_Потехин, Уолтер_Льюин, Лайман_Пейдж, \n",
      "\n",
      "sbj28: \n",
      "\t Top words: фильм, свобода, кино, кинематограф, культовый, климат, глобальный, бердяев, вечный, жанр, ледник, тема, классика, климатический, радиация, \n",
      "\n",
      "\t Top authors: Александр_Павлов, Ивар_Максутов, Светлана_Баньковская, Николай_Плотников, Татьяна_Смоктунович, Павел_Соколов, Александр_Кислов, Александр_Парфенов, Михаил_Эпштейн, Елизавета_Ривкина, Юлия_Краус, Владимир_Каганский, Герберт_Хупперт, Ольга_Столярова, Ольга_Вайнштейн, \n",
      "\n",
      "bcg: \n",
      "\t Top words: быть, что, это, который, этот, как, они, мочь, такой, очень, для, человек, или, тот, один, \n",
      "\n",
      "\t Top authors: Сергей_Неклюдов, Александр_Филиппов, Михаил_Алексеевский, Михаил_Маяцкий, Алексей_Миллер, ПостНаука, Андрей_Зорин, Ян_Левченко, Алексей_Маслов, Андрей_Цатурян, Оксана_Запорожец, Анатолий_Баранов, Татьяна_Ребеко, Георгий_Базыкин, Николай_Дронин, \n",
      "\n"
     ]
    }
   ],
   "source": [
    "# Ваш код\n",
    "for topic_name in model_artm.topic_names:\n",
    "    print topic_name + ': \\n\\t Top words:',\n",
    "    for word in model_artm.score_tracker[\"top_words_text\"].last_tokens[topic_name]:\n",
    "        print word+',',\n",
    "    print '\\n\\n\\t Top authors:',\n",
    "    for author in model_artm.score_tracker[\"top_author\"].last_tokens[topic_name]: \n",
    "        print author+',',\n",
    "    print '\\n'"
   ]
  },
  {
   "cell_type": "markdown",
   "metadata": {},
   "source": [
    "В последней теме \"bcg\" должны находиться общеупотребительные слова.\n",
    "\n",
    "Важный шаг в работе с тематической моделью, когда речь идет о визуализации или создании тематического навигатора, это именование тем. Понять, о чем каждая тема, можно по списку ее топовых слов. Например, тему\n",
    "    \n",
    "    частица взаимодействие физика кварк симметрия элементарный нейтрино стандартный материя протон бозон заряд масса ускоритель слабый\n",
    "    \n",
    "можно назвать \"Физика элементарных частиц\". \n",
    "\n",
    "Дайте названия 29 предметным темам. Если вы не знаете, как назвать тему, назовите ее первым встретившимся в ней существительным, хотя при таком подходе навигатор будет менее информативным. Из названий тем составьте список из 29 строк и запишите го в переменную sbj_topic_labels. В переменной topic_labels будут храниться названия всех тем, включая фоновую."
   ]
  },
  {
   "cell_type": "code",
   "execution_count": 190,
   "metadata": {},
   "outputs": [],
   "source": [
    "sbj_topic_labels = [u\"Физика элементарных частиц\", u\"Химия\", u\"История\", u\"Социология\", u\"Эволюция\",\n",
    "                   u\"Мифология\", u\"Лингвистика\", u\"Этнология\", u\"Правоведение\", u\"Медицина\",\n",
    "                   u\"Биология\", u\"Психология\", u\"История России\", u\"Политология\", u\"Астрономия\",\n",
    "                   u\"Экономика\", u\"Институт семьи\", u\"Информатика\", u\"Государство\", u\"Генетика\",\n",
    "                   u\"Квантовая физика\", u\"Философия\", u\"История Франции\", u\"История России\", u\"Лингвистиа\",\n",
    "                   u\"Математика\", u\"Театральное искусство\", u\"Астрономия\", u\"Кинематограф\"]   # запишите названия тем в список\n",
    "topic_labels = sbj_topic_labels + [\"Фоновая тема\"]"
   ]
  },
  {
   "cell_type": "markdown",
   "metadata": {},
   "source": [
    "##### Анализ тем"
   ]
  },
  {
   "cell_type": "markdown",
   "metadata": {},
   "source": [
    "Далее мы будем работать с распределениями тем в документах (матрица $\\Theta$) и авторов в темах (одна из двух матриц $\\Phi$, соответствующая модальности авторов). \n",
    "Создайте переменные, содержащие две этих матрицы, с помощью методов get_phi и get_theta модели. Назовите переменные theta и phi_a. Выведите формы обеих матриц, чтобы понять, по каким осям стоят темы."
   ]
  },
  {
   "cell_type": "code",
   "execution_count": 89,
   "metadata": {},
   "outputs": [
    {
     "name": "stdout",
     "output_type": "stream",
     "text": [
      "Theta shape: (30, 1728)\n",
      "Phi shape: (539, 30)\n"
     ]
    }
   ],
   "source": [
    "model_artm.theta_columns_naming = \"title\" # включает именование столбцов Theta их названиями-ссылками, а не внутренними id \n",
    "# Ваш код\n",
    "\n",
    "theta = model_artm.get_theta()\n",
    "print('Theta shape: {}'.format(theta.shape))\n",
    "\n",
    "phi_a = model_artm.get_phi(class_ids='author')\n",
    "print('Phi shape: {}'.format(phi_a.shape))"
   ]
  },
  {
   "cell_type": "markdown",
   "metadata": {},
   "source": [
    "Визуализируем фрагмент матрицы $\\Theta$ - первые 100 документов (это наиболее простой способ визуально оценить, как темы распределяются в документах). С помощью метода seaborn.heatmap выведите фрагмент theta как изображение. Рекомендация: создайте фигуру pyplot размера (20, 10)."
   ]
  },
  {
   "cell_type": "code",
   "execution_count": 17,
   "metadata": {},
   "outputs": [
    {
     "name": "stderr",
     "output_type": "stream",
     "text": [
      "/Users/admin/opt/anaconda2/lib/python2.7/site-packages/numpy/lib/type_check.py:546: DeprecationWarning: np.asscalar(a) is deprecated since NumPy v1.16, use a.item() instead\n",
      "  'a.item() instead', DeprecationWarning, stacklevel=1)\n"
     ]
    },
    {
     "data": {
      "text/plain": [
       "<matplotlib.axes._subplots.AxesSubplot at 0x100b76f10>"
      ]
     },
     "execution_count": 17,
     "metadata": {},
     "output_type": "execute_result"
    },
    {
     "data": {
      "image/png": "[encoded data removed]",
      "text/plain": [
       "<Figure size 1440x720 with 2 Axes>"
      ]
     },
     "metadata": {
      "needs_background": "light"
     },
     "output_type": "display_data"
    }
   ],
   "source": [
    "# Ваш код\n",
    "fig, ax = plt.subplots(figsize=(20,10))\n",
    "seaborn.heatmap(theta.head(100))"
   ]
  },
  {
   "cell_type": "markdown",
   "metadata": {},
   "source": [
    "Вы должны увидеть, что фоновая тема имеет большую вероятность в почти каждом документе, и это логично. Кроме того, есть еще одна тема, которая чаще других встречается в документах. Судя по всему, это тема содержит много слов по науку в целом, а каждый документ (видео) в нашей коллекции связан с наукой. Можно (необязательно) дать этой теме название \"Наука\".\n",
    "\n",
    "Помимо этих двух тем, фоновой и общенаучной, каждый документ характеризуется малым числом других тем."
   ]
  },
  {
   "cell_type": "markdown",
   "metadata": {},
   "source": [
    "Оценим $p(t)$ - долю каждой темы во всей коллекции. По формуле полной вероятности вычислять эти величины нужно как\n",
    "$p(t) = \\sum_d p(t|d) p(d)$. Согласно вероятностной модели, $p(d)$ пропорционально длине документа d. Поступим проще: будем полагать, что все документы равновероятны. Тогда оценить $p(t)$ можно, просуммировав $p(t|d)$ по всем документам, а затем разделив полученный вектор на его сумму. \n",
    "\n",
    "Создайте переменную-датафрейм с T строками, индексированными названиями тем, и 1 столбцом, содержащим оценки $p(t)$. Выведите датафрейм на печать."
   ]
  },
  {
   "cell_type": "code",
   "execution_count": 81,
   "metadata": {},
   "outputs": [
    {
     "data": {
      "text/html": [
       "<div>\n",
       "<style scoped>\n",
       "    .dataframe tbody tr th:only-of-type {\n",
       "        vertical-align: middle;\n",
       "    }\n",
       "\n",
       "    .dataframe tbody tr th {\n",
       "        vertical-align: top;\n",
       "    }\n",
       "\n",
       "    .dataframe thead th {\n",
       "        text-align: right;\n",
       "    }\n",
       "</style>\n",
       "<table border=\"1\" class=\"dataframe\">\n",
       "  <thead>\n",
       "    <tr style=\"text-align: right;\">\n",
       "      <th></th>\n",
       "      <th>0</th>\n",
       "    </tr>\n",
       "  </thead>\n",
       "  <tbody>\n",
       "    <tr>\n",
       "      <th>Физика элементарных частиц</th>\n",
       "      <td>0.010022</td>\n",
       "    </tr>\n",
       "    <tr>\n",
       "      <th>Химия</th>\n",
       "      <td>0.013312</td>\n",
       "    </tr>\n",
       "    <tr>\n",
       "      <th>История</th>\n",
       "      <td>0.010888</td>\n",
       "    </tr>\n",
       "    <tr>\n",
       "      <th>Социология</th>\n",
       "      <td>0.007176</td>\n",
       "    </tr>\n",
       "    <tr>\n",
       "      <th>Эволюция</th>\n",
       "      <td>0.006059</td>\n",
       "    </tr>\n",
       "    <tr>\n",
       "      <th>Мифология</th>\n",
       "      <td>0.008136</td>\n",
       "    </tr>\n",
       "    <tr>\n",
       "      <th>Лингвистика</th>\n",
       "      <td>0.007618</td>\n",
       "    </tr>\n",
       "    <tr>\n",
       "      <th>Этнология</th>\n",
       "      <td>0.004779</td>\n",
       "    </tr>\n",
       "    <tr>\n",
       "      <th>Правоведение</th>\n",
       "      <td>0.007441</td>\n",
       "    </tr>\n",
       "    <tr>\n",
       "      <th>Медицина</th>\n",
       "      <td>0.011264</td>\n",
       "    </tr>\n",
       "    <tr>\n",
       "      <th>Биология</th>\n",
       "      <td>0.014469</td>\n",
       "    </tr>\n",
       "    <tr>\n",
       "      <th>Психология</th>\n",
       "      <td>0.006378</td>\n",
       "    </tr>\n",
       "    <tr>\n",
       "      <th>История России</th>\n",
       "      <td>0.009874</td>\n",
       "    </tr>\n",
       "    <tr>\n",
       "      <th>Политология</th>\n",
       "      <td>0.041787</td>\n",
       "    </tr>\n",
       "    <tr>\n",
       "      <th>Астрономия</th>\n",
       "      <td>0.011454</td>\n",
       "    </tr>\n",
       "    <tr>\n",
       "      <th>Экономика</th>\n",
       "      <td>0.009198</td>\n",
       "    </tr>\n",
       "    <tr>\n",
       "      <th>Институт семьи</th>\n",
       "      <td>0.008120</td>\n",
       "    </tr>\n",
       "    <tr>\n",
       "      <th>Информатика</th>\n",
       "      <td>0.009913</td>\n",
       "    </tr>\n",
       "    <tr>\n",
       "      <th>Государство</th>\n",
       "      <td>0.013185</td>\n",
       "    </tr>\n",
       "    <tr>\n",
       "      <th>Генетика</th>\n",
       "      <td>0.021651</td>\n",
       "    </tr>\n",
       "    <tr>\n",
       "      <th>Квантовая физика</th>\n",
       "      <td>0.015673</td>\n",
       "    </tr>\n",
       "    <tr>\n",
       "      <th>Философия</th>\n",
       "      <td>0.014534</td>\n",
       "    </tr>\n",
       "    <tr>\n",
       "      <th>История Франции</th>\n",
       "      <td>0.008877</td>\n",
       "    </tr>\n",
       "    <tr>\n",
       "      <th>История России</th>\n",
       "      <td>0.007065</td>\n",
       "    </tr>\n",
       "    <tr>\n",
       "      <th>Лингвистиа</th>\n",
       "      <td>0.013265</td>\n",
       "    </tr>\n",
       "    <tr>\n",
       "      <th>Математика</th>\n",
       "      <td>0.009220</td>\n",
       "    </tr>\n",
       "    <tr>\n",
       "      <th>Театральное искусство</th>\n",
       "      <td>0.002958</td>\n",
       "    </tr>\n",
       "    <tr>\n",
       "      <th>Астрономия</th>\n",
       "      <td>0.011510</td>\n",
       "    </tr>\n",
       "    <tr>\n",
       "      <th>Кинематограф</th>\n",
       "      <td>0.005715</td>\n",
       "    </tr>\n",
       "    <tr>\n",
       "      <th>Фоновая тема</th>\n",
       "      <td>0.678458</td>\n",
       "    </tr>\n",
       "  </tbody>\n",
       "</table>\n",
       "</div>"
      ],
      "text/plain": [
       "                                   0\n",
       "Физика элементарных частиц  0.010022\n",
       "Химия                       0.013312\n",
       "История                     0.010888\n",
       "Социология                  0.007176\n",
       "Эволюция                    0.006059\n",
       "Мифология                   0.008136\n",
       "Лингвистика                 0.007618\n",
       "Этнология                   0.004779\n",
       "Правоведение                0.007441\n",
       "Медицина                    0.011264\n",
       "Биология                    0.014469\n",
       "Психология                  0.006378\n",
       "История России              0.009874\n",
       "Политология                 0.041787\n",
       "Астрономия                  0.011454\n",
       "Экономика                   0.009198\n",
       "Институт семьи              0.008120\n",
       "Информатика                 0.009913\n",
       "Государство                 0.013185\n",
       "Генетика                    0.021651\n",
       "Квантовая физика            0.015673\n",
       "Философия                   0.014534\n",
       "История Франции             0.008877\n",
       "История России              0.007065\n",
       "Лингвистиа                  0.013265\n",
       "Математика                  0.009220\n",
       "Театральное искусство       0.002958\n",
       "Астрономия                  0.011510\n",
       "Кинематограф                0.005715\n",
       "Фоновая тема                0.678458"
      ]
     },
     "execution_count": 81,
     "metadata": {},
     "output_type": "execute_result"
    }
   ],
   "source": [
    "# Ваш код\n",
    "pt = theta.sum(axis=1)/theta.shape[1]\n",
    "pt.index = topic_labels\n",
    "pd.DataFrame(pt)"
   ]
  },
  {
   "cell_type": "markdown",
   "metadata": {},
   "source": [
    "Найдите 5 самых распространенных и 3 наименее освещенных темы в коллекции (наибольшие и наименьшие $p(t)$ соответственно), не считая фоновую и общенаучную. Укажите названия, которые вы дали этим темам."
   ]
  },
  {
   "cell_type": "code",
   "execution_count": 84,
   "metadata": {},
   "outputs": [
    {
     "name": "stdout",
     "output_type": "stream",
     "text": [
      "5 тем с max p(t):  Политология, Генетика, Квантовая физика, Философия, Биология, \n",
      "\n",
      "3 темы с min p(t):  Театральное искусство, Этнология, Кинематограф,\n"
     ]
    }
   ],
   "source": [
    "#Ваш ответ:\n",
    "print(\"5 тем с max p(t): \"),\n",
    "for theme in pt[pt.index !='Фоновая тема'].sort_values(ascending=False)[:5].index:\n",
    "    print theme+',',\n",
    "print '\\n'\n",
    "print(\"3 темы с min p(t): \"),\n",
    "for theme in pt[pt.index !='Фоновая тема'].sort_values(ascending=True)[:3].index:\n",
    "    print theme+',',"
   ]
  },
  {
   "cell_type": "markdown",
   "metadata": {},
   "source": [
    "Визуализируйте матрицу $\\Phi$ модальности авторов в виде изображения. Рекомендация: установите yticklabels=False в heatmap."
   ]
  },
  {
   "cell_type": "code",
   "execution_count": 37,
   "metadata": {},
   "outputs": [
    {
     "data": {
      "text/plain": [
       "<matplotlib.axes._subplots.AxesSubplot at 0x1a12f628d0>"
      ]
     },
     "execution_count": 37,
     "metadata": {},
     "output_type": "execute_result"
    },
    {
     "data": {
      "image/png": "[encoded data removed]",
      "text/plain": [
       "<Figure size 1440x720 with 2 Axes>"
      ]
     },
     "metadata": {
      "needs_background": "light"
     },
     "output_type": "display_data"
    }
   ],
   "source": [
    "# Ваш код\n",
    "fig, ax = plt.subplots(figsize=(20,10))\n",
    "seaborn.heatmap(phi_a, yticklabels=False)"
   ]
  },
  {
   "cell_type": "markdown",
   "metadata": {},
   "source": [
    "Каждой теме соответствует не очень большое число авторов - матрица достаточно разреженная. Кроме того, некоторые темы имеют доминирующего автора $a$, имеющего большую вероятность $p(a|t)$ - этот автор записал больше всего лекций по теме. "
   ]
  },
  {
   "cell_type": "markdown",
   "metadata": {},
   "source": [
    "Будем считать, что автор $a$ значим в теме, если $p(a|t) > 0.01$. Для каждого автора посчитайте, в скольких темах он значим. Найдите авторов-рекордсменов, которые значимы (а значит, читали лекции) в >= 3 темах."
   ]
  },
  {
   "cell_type": "code",
   "execution_count": 91,
   "metadata": {},
   "outputs": [],
   "source": [
    "new_phi=phi_a.copy()\n",
    "new_phi[new_phi > 0.01], new_phi[new_phi <= 0.01] = 1, 0\n",
    "authors = new_phi.fillna(0).sum(axis=1)"
   ]
  },
  {
   "cell_type": "code",
   "execution_count": 92,
   "metadata": {},
   "outputs": [
    {
     "name": "stdout",
     "output_type": "stream",
     "text": [
      "Авторы, значимые в не менее чем 3 темах:  Фёдор_Успенский, Андрей_Журавлев, Дина_Гусейнова, Александр_Воеводский, Ольга_Вайнштейн,\n"
     ]
    }
   ],
   "source": [
    "#Ваш ответ:\n",
    "print \"Авторы, значимые в не менее чем 3 темах: \",\n",
    "for author in authors[authors>=3].index:\n",
    "    print author[1]+',',"
   ]
  },
  {
   "cell_type": "markdown",
   "metadata": {},
   "source": [
    "Большинство авторов значимы в 1 теме, что логично."
   ]
  },
  {
   "cell_type": "markdown",
   "metadata": {},
   "source": [
    "##### Построение тематической карты авторов"
   ]
  },
  {
   "cell_type": "markdown",
   "metadata": {},
   "source": [
    "По сути, в матрице $\\Phi$, соответствующей модальности авторов, записаны тематические кластеры авторов. Для любого автора мы можем составить его тематический круг - авторов, разбирающихся в той же теме, что и данный. Интересующиеся слушатели могут попробовать выполнить эту процедуру для ученых, читающих лекции на Постнауке, которых они знают (например, на Постнауке есть лекции с К. В. Воронцовым - лектором текущего модуля :)\n",
    "\n",
    "Составим карту близости авторов по тематике их исследований. Для этого применим метод понижения размерности MDS к тематическим профилям авторов.\n",
    "\n",
    "Чтобы получить тематический профиль автора, распределение $p(t|a)$, нужно воспользоваться формулой Байеса: \n",
    "$p(t|a) = \\frac {p(a|t) p(t)} {\\sum_t' p(a|t') p(t')}$. Все необходимые для этого величины у вас есть и записаны в переменных phi и pt. \n",
    "\n",
    "Передайте матрицу тематических профилей авторов, записанных по строкам, в метод MDS с n_components=2. Используйте косинусную метрику (она хорошо подходит для поиска расстояний между векторами, имеющими фиксированную сумму компонент)."
   ]
  },
  {
   "cell_type": "code",
   "execution_count": 80,
   "metadata": {},
   "outputs": [],
   "source": [
    "from sklearn.manifold import MDS\n",
    "from sklearn.metrics import pairwise_distances"
   ]
  },
  {
   "cell_type": "code",
   "execution_count": 93,
   "metadata": {},
   "outputs": [],
   "source": [
    "# Ваш код\n",
    "value = phi_a * pt.T.values\n",
    "author_th = value.div(value.sum(axis=1),axis=0)\n",
    "\n",
    "distance = pairwise_distances(author_th, metric = 'cosine')\n",
    "mds = MDS(n_components=2, dissimilarity=\"precomputed\", random_state=321)\n",
    "MDS_transformed_cos = mds.fit_transform(distance)"
   ]
  },
  {
   "cell_type": "markdown",
   "metadata": {},
   "source": [
    "Визуализируйте найденные двумерные представления с помощью функции scatter. "
   ]
  },
  {
   "cell_type": "code",
   "execution_count": 110,
   "metadata": {},
   "outputs": [
    {
     "data": {
      "text/plain": [
       "<matplotlib.collections.PathCollection at 0x100b990d0>"
      ]
     },
     "execution_count": 110,
     "metadata": {},
     "output_type": "execute_result"
    },
    {
     "data": {
      "image/png": "[encoded data removed]",
      "text/plain": [
       "<Figure size 432x288 with 1 Axes>"
      ]
     },
     "metadata": {
      "needs_background": "light"
     },
     "output_type": "display_data"
    }
   ],
   "source": [
    "# Ваш код\n",
    "plt.scatter(MDS_transformed_cos[:,0], MDS_transformed_cos[:,1])"
   ]
  },
  {
   "cell_type": "markdown",
   "metadata": {},
   "source": [
    "Должно получиться, что некоторые грппы авторов формируют сгустки, которые можно считать тематическими группами авторов.\n",
    "\n",
    "Раскрасим точки следующим образом: для каждого автора выберем наиболее вероятную для него тему ($\\max_t p(t|a)$), и каждой теме сопоставим цвет. Кроме того, добавим на карту имена и фамилии авторов, это можно сделать в цикле по всем точкам с помощью функции plt.annotate, указывая метку точки первым аргументом и ее координаты в аргументе xy. Рекомендуется сделать размер изображения большим, тогда маркеры точек тоже придется увеличить (s=100 в plt.scatter). Изобразите карту авторов и сохраните в pdf-файл с помощью функции plt.savefig. \n",
    "\n",
    "Метки авторов будут пересекаться. Будет очень хорошо, если вы найдете способ, как этого можно избежать."
   ]
  },
  {
   "cell_type": "code",
   "execution_count": 117,
   "metadata": {},
   "outputs": [
    {
     "data": {
      "image/png": "[encoded data removed]",
      "text/plain": [
       "<Figure size 1440x1440 with 1 Axes>"
      ]
     },
     "metadata": {
      "needs_background": "light"
     },
     "output_type": "display_data"
    }
   ],
   "source": [
    "import matplotlib.cm as cm\n",
    "colors = cm.rainbow(np.linspace(0, 1, T)) # цвета для тем\n",
    "# Ваш код\n",
    "\n",
    "plt.figure(figsize=(20,20))\n",
    "\n",
    "df = pd.DataFrame(colors, index = phi_a.columns)\n",
    "c = []\n",
    "for line_number, (author, row) in enumerate(phi_a.iterrows()):\n",
    "    c.append(df.loc[row.iloc[:-1].idxmax()])\n",
    "    plt.annotate(author[1], MDS_transformed_cos[line_number])\n",
    "    \n",
    "plt.scatter(MDS_transformed_cos[:,0], MDS_transformed_cos[:,1], s=100, c = c)\n",
    "plt.savefig('authors_map.pdf', format='pdf')\n",
    "plt.show()"
   ]
  },
  {
   "cell_type": "markdown",
   "metadata": {},
   "source": [
    "##### Создание простого тематического навигатора по Постнауке"
   ]
  },
  {
   "cell_type": "markdown",
   "metadata": {},
   "source": [
    "Наш тематический навигатор будет для каждой темы показывать ее список слов, а также список релевантных теме документов. \n",
    "\n",
    "Нам понадобятся распределения $p(d|t)$. По формуле Байеса $p(d|t) = \\frac{p(t|d)p(d)}{\\sum_{d'}p(t|d')p(d')}$, но поскольку мы считаем документы равновероятными, достаточно разделить каждую строку $\\Theta$ на ее сумму, чтобы оценить распределение. \n",
    "\n",
    "Отсортируйте матрицу $p(d|t)$ по убыванию $p(d|t)$ в каждой теме (то есть построчно). Нам понадобятся индексы наиболее вероятных документов в каждой теме, поэтому используйте функцию argmax."
   ]
  },
  {
   "cell_type": "code",
   "execution_count": 118,
   "metadata": {},
   "outputs": [
    {
     "data": {
      "text/html": [
       "<div>\n",
       "<style scoped>\n",
       "    .dataframe tbody tr th:only-of-type {\n",
       "        vertical-align: middle;\n",
       "    }\n",
       "\n",
       "    .dataframe tbody tr th {\n",
       "        vertical-align: top;\n",
       "    }\n",
       "\n",
       "    .dataframe thead th {\n",
       "        text-align: right;\n",
       "    }\n",
       "</style>\n",
       "<table border=\"1\" class=\"dataframe\">\n",
       "  <thead>\n",
       "    <tr style=\"text-align: right;\">\n",
       "      <th></th>\n",
       "      <th>http://postnauka.ru/video/10006</th>\n",
       "      <th>http://postnauka.ru/video/10379</th>\n",
       "      <th>http://postnauka.ru/video/10380</th>\n",
       "      <th>http://postnauka.ru/video/10381</th>\n",
       "      <th>http://postnauka.ru/video/10382</th>\n",
       "      <th>http://postnauka.ru/video/10383</th>\n",
       "      <th>http://postnauka.ru/video/10384</th>\n",
       "      <th>http://postnauka.ru/video/10385</th>\n",
       "      <th>http://postnauka.ru/video/10473</th>\n",
       "      <th>http://postnauka.ru/video/10475</th>\n",
       "      <th>...</th>\n",
       "      <th>http://postnauka.ru/video/9874</th>\n",
       "      <th>http://postnauka.ru/video/9876</th>\n",
       "      <th>http://postnauka.ru/video/9968</th>\n",
       "      <th>http://postnauka.ru/video/9992</th>\n",
       "      <th>http://postnauka.ru/video/9993</th>\n",
       "      <th>http://postnauka.ru/video/9994</th>\n",
       "      <th>http://postnauka.ru/video/9995</th>\n",
       "      <th>http://postnauka.ru/video/9996</th>\n",
       "      <th>http://postnauka.ru/video/9997</th>\n",
       "      <th>http://postnauka.ru/video/9998</th>\n",
       "    </tr>\n",
       "  </thead>\n",
       "  <tbody>\n",
       "    <tr>\n",
       "      <th>sbj0</th>\n",
       "      <td>0.0</td>\n",
       "      <td>0.000000</td>\n",
       "      <td>0.000000</td>\n",
       "      <td>0.000000</td>\n",
       "      <td>0.000000</td>\n",
       "      <td>0.009468</td>\n",
       "      <td>0.000000</td>\n",
       "      <td>0.0</td>\n",
       "      <td>0.0</td>\n",
       "      <td>0.000000</td>\n",
       "      <td>...</td>\n",
       "      <td>0.0</td>\n",
       "      <td>0.00000</td>\n",
       "      <td>0.000000</td>\n",
       "      <td>0.0</td>\n",
       "      <td>2.629099e-15</td>\n",
       "      <td>0.000000</td>\n",
       "      <td>0.000000e+00</td>\n",
       "      <td>5.302393e-14</td>\n",
       "      <td>0.000000</td>\n",
       "      <td>0.0</td>\n",
       "    </tr>\n",
       "    <tr>\n",
       "      <th>sbj1</th>\n",
       "      <td>0.0</td>\n",
       "      <td>0.007102</td>\n",
       "      <td>0.000000</td>\n",
       "      <td>0.000000</td>\n",
       "      <td>0.000479</td>\n",
       "      <td>0.000009</td>\n",
       "      <td>0.000000</td>\n",
       "      <td>0.0</td>\n",
       "      <td>0.0</td>\n",
       "      <td>0.000594</td>\n",
       "      <td>...</td>\n",
       "      <td>0.0</td>\n",
       "      <td>0.00000</td>\n",
       "      <td>0.000000</td>\n",
       "      <td>0.0</td>\n",
       "      <td>8.143439e-04</td>\n",
       "      <td>0.005246</td>\n",
       "      <td>5.263525e-16</td>\n",
       "      <td>2.249091e-03</td>\n",
       "      <td>0.000000</td>\n",
       "      <td>0.0</td>\n",
       "    </tr>\n",
       "    <tr>\n",
       "      <th>sbj2</th>\n",
       "      <td>0.0</td>\n",
       "      <td>0.000000</td>\n",
       "      <td>0.001178</td>\n",
       "      <td>0.007921</td>\n",
       "      <td>0.000000</td>\n",
       "      <td>0.000000</td>\n",
       "      <td>0.001537</td>\n",
       "      <td>0.0</td>\n",
       "      <td>0.0</td>\n",
       "      <td>0.000000</td>\n",
       "      <td>...</td>\n",
       "      <td>0.0</td>\n",
       "      <td>0.00822</td>\n",
       "      <td>0.017075</td>\n",
       "      <td>0.0</td>\n",
       "      <td>0.000000e+00</td>\n",
       "      <td>0.000000</td>\n",
       "      <td>1.272591e-17</td>\n",
       "      <td>0.000000e+00</td>\n",
       "      <td>0.000019</td>\n",
       "      <td>0.0</td>\n",
       "    </tr>\n",
       "    <tr>\n",
       "      <th>sbj3</th>\n",
       "      <td>0.0</td>\n",
       "      <td>0.002859</td>\n",
       "      <td>0.000000</td>\n",
       "      <td>0.000000</td>\n",
       "      <td>0.000000</td>\n",
       "      <td>0.000000</td>\n",
       "      <td>0.000000</td>\n",
       "      <td>0.0</td>\n",
       "      <td>0.0</td>\n",
       "      <td>0.000000</td>\n",
       "      <td>...</td>\n",
       "      <td>0.0</td>\n",
       "      <td>0.00000</td>\n",
       "      <td>0.000000</td>\n",
       "      <td>0.0</td>\n",
       "      <td>1.289648e-15</td>\n",
       "      <td>0.000000</td>\n",
       "      <td>0.000000e+00</td>\n",
       "      <td>0.000000e+00</td>\n",
       "      <td>0.000000</td>\n",
       "      <td>0.0</td>\n",
       "    </tr>\n",
       "    <tr>\n",
       "      <th>sbj4</th>\n",
       "      <td>0.0</td>\n",
       "      <td>0.000000</td>\n",
       "      <td>0.000000</td>\n",
       "      <td>0.000000</td>\n",
       "      <td>0.000000</td>\n",
       "      <td>0.000000</td>\n",
       "      <td>0.000000</td>\n",
       "      <td>0.0</td>\n",
       "      <td>0.0</td>\n",
       "      <td>0.000000</td>\n",
       "      <td>...</td>\n",
       "      <td>0.0</td>\n",
       "      <td>0.00000</td>\n",
       "      <td>0.000000</td>\n",
       "      <td>0.0</td>\n",
       "      <td>0.000000e+00</td>\n",
       "      <td>0.000000</td>\n",
       "      <td>2.484232e-03</td>\n",
       "      <td>0.000000e+00</td>\n",
       "      <td>0.000000</td>\n",
       "      <td>0.0</td>\n",
       "    </tr>\n",
       "  </tbody>\n",
       "</table>\n",
       "<p>5 rows × 1728 columns</p>\n",
       "</div>"
      ],
      "text/plain": [
       "      http://postnauka.ru/video/10006  http://postnauka.ru/video/10379  \\\n",
       "sbj0                              0.0                         0.000000   \n",
       "sbj1                              0.0                         0.007102   \n",
       "sbj2                              0.0                         0.000000   \n",
       "sbj3                              0.0                         0.002859   \n",
       "sbj4                              0.0                         0.000000   \n",
       "\n",
       "      http://postnauka.ru/video/10380  http://postnauka.ru/video/10381  \\\n",
       "sbj0                         0.000000                         0.000000   \n",
       "sbj1                         0.000000                         0.000000   \n",
       "sbj2                         0.001178                         0.007921   \n",
       "sbj3                         0.000000                         0.000000   \n",
       "sbj4                         0.000000                         0.000000   \n",
       "\n",
       "      http://postnauka.ru/video/10382  http://postnauka.ru/video/10383  \\\n",
       "sbj0                         0.000000                         0.009468   \n",
       "sbj1                         0.000479                         0.000009   \n",
       "sbj2                         0.000000                         0.000000   \n",
       "sbj3                         0.000000                         0.000000   \n",
       "sbj4                         0.000000                         0.000000   \n",
       "\n",
       "      http://postnauka.ru/video/10384  http://postnauka.ru/video/10385  \\\n",
       "sbj0                         0.000000                              0.0   \n",
       "sbj1                         0.000000                              0.0   \n",
       "sbj2                         0.001537                              0.0   \n",
       "sbj3                         0.000000                              0.0   \n",
       "sbj4                         0.000000                              0.0   \n",
       "\n",
       "      http://postnauka.ru/video/10473  http://postnauka.ru/video/10475  ...  \\\n",
       "sbj0                              0.0                         0.000000  ...   \n",
       "sbj1                              0.0                         0.000594  ...   \n",
       "sbj2                              0.0                         0.000000  ...   \n",
       "sbj3                              0.0                         0.000000  ...   \n",
       "sbj4                              0.0                         0.000000  ...   \n",
       "\n",
       "      http://postnauka.ru/video/9874  http://postnauka.ru/video/9876  \\\n",
       "sbj0                             0.0                         0.00000   \n",
       "sbj1                             0.0                         0.00000   \n",
       "sbj2                             0.0                         0.00822   \n",
       "sbj3                             0.0                         0.00000   \n",
       "sbj4                             0.0                         0.00000   \n",
       "\n",
       "      http://postnauka.ru/video/9968  http://postnauka.ru/video/9992  \\\n",
       "sbj0                        0.000000                             0.0   \n",
       "sbj1                        0.000000                             0.0   \n",
       "sbj2                        0.017075                             0.0   \n",
       "sbj3                        0.000000                             0.0   \n",
       "sbj4                        0.000000                             0.0   \n",
       "\n",
       "      http://postnauka.ru/video/9993  http://postnauka.ru/video/9994  \\\n",
       "sbj0                    2.629099e-15                        0.000000   \n",
       "sbj1                    8.143439e-04                        0.005246   \n",
       "sbj2                    0.000000e+00                        0.000000   \n",
       "sbj3                    1.289648e-15                        0.000000   \n",
       "sbj4                    0.000000e+00                        0.000000   \n",
       "\n",
       "      http://postnauka.ru/video/9995  http://postnauka.ru/video/9996  \\\n",
       "sbj0                    0.000000e+00                    5.302393e-14   \n",
       "sbj1                    5.263525e-16                    2.249091e-03   \n",
       "sbj2                    1.272591e-17                    0.000000e+00   \n",
       "sbj3                    0.000000e+00                    0.000000e+00   \n",
       "sbj4                    2.484232e-03                    0.000000e+00   \n",
       "\n",
       "      http://postnauka.ru/video/9997  http://postnauka.ru/video/9998  \n",
       "sbj0                        0.000000                             0.0  \n",
       "sbj1                        0.000000                             0.0  \n",
       "sbj2                        0.000019                             0.0  \n",
       "sbj3                        0.000000                             0.0  \n",
       "sbj4                        0.000000                             0.0  \n",
       "\n",
       "[5 rows x 1728 columns]"
      ]
     },
     "execution_count": 118,
     "metadata": {},
     "output_type": "execute_result"
    }
   ],
   "source": [
    "# Ваш код\n",
    "p_dt=theta.div(theta.sum(axis=1), axis=0)\n",
    "p_dt.head()"
   ]
  },
  {
   "cell_type": "markdown",
   "metadata": {},
   "source": [
    "Создавать навигатор мы будем прямо в jupiter notebook: это возможно благодаря тому факту, что при печати ссылки она автоматически превращается в гиперссылку."
   ]
  },
  {
   "cell_type": "code",
   "execution_count": 119,
   "metadata": {},
   "outputs": [
    {
     "name": "stdout",
     "output_type": "stream",
     "text": [
      "http://yandex.ru\n"
     ]
    }
   ],
   "source": [
    "print \"http://yandex.ru\"   # получится кликабельная ссылка"
   ]
  },
  {
   "cell_type": "markdown",
   "metadata": {},
   "source": [
    "Кроме того, подключив модуль [ipython.core.display](https://ipython.org/ipython-doc/2/api/generated/IPython.core.display.html), можно использовать html-разметку в выводе. Например:"
   ]
  },
  {
   "cell_type": "code",
   "execution_count": 172,
   "metadata": {},
   "outputs": [
    {
     "data": {
      "text/html": [
       "<h1>Заголовок</h1>"
      ],
      "text/plain": [
       "<IPython.core.display.HTML object>"
      ]
     },
     "metadata": {},
     "output_type": "display_data"
    },
    {
     "data": {
      "text/html": [
       "<ul><li>Пункт 1</li><li>Пункт 2</li></ul>"
      ],
      "text/plain": [
       "<IPython.core.display.HTML object>"
      ]
     },
     "metadata": {},
     "output_type": "display_data"
    },
    {
     "data": {
      "text/html": [
       "<font color=\"green\">Зеленый!</font>"
      ],
      "text/plain": [
       "<IPython.core.display.HTML object>"
      ]
     },
     "metadata": {},
     "output_type": "display_data"
    },
    {
     "data": {
      "text/html": [
       "<a href=\"http://yandex.ru\">Еще один вариант вывода ссылки</a>"
      ],
      "text/plain": [
       "<IPython.core.display.HTML object>"
      ]
     },
     "metadata": {},
     "output_type": "display_data"
    }
   ],
   "source": [
    "from IPython.core.display import display, HTML\n",
    "display(HTML(u\"<h1>Заголовок</h1>\"))   # также <h2>, <h3>\n",
    "display(HTML(u\"<ul><li>Пункт 1</li><li>Пункт 2</li></ul>\"))\n",
    "display(HTML(u'<font color=\"green\">Зеленый!</font>'))\n",
    "display(HTML(u'<a href=\"http://yandex.ru\">Еще один вариант вывода ссылки</a>'))"
   ]
  },
  {
   "cell_type": "markdown",
   "metadata": {},
   "source": [
    "В цикле для каждой темы выведите ее заголовок, в следующей строке - топ-10 слов темы, затем в виде списка ссылки на 10 наиболее релевантных (по $p(d|t)$) теме документов. Используйте html-разметку. Творчество приветствуется :)"
   ]
  },
  {
   "cell_type": "code",
   "execution_count": 191,
   "metadata": {},
   "outputs": [
    {
     "data": {
      "text/html": [
       "<h3>Физика элементарных частиц</h3>"
      ],
      "text/plain": [
       "<IPython.core.display.HTML object>"
      ]
     },
     "metadata": {},
     "output_type": "display_data"
    },
    {
     "name": "stdout",
     "output_type": "stream",
     "text": [
      "частица, энергия, взаимодействие, физика, кварк, симметрия, элементарный, нейтрино, стандартный, материя\n",
      "http://postnauka.ru/video/13043\n",
      "http://postnauka.ru/video/18870\n",
      "http://postnauka.ru/video/18873\n",
      "http://postnauka.ru/video/47950\n",
      "http://postnauka.ru/video/18865\n"
     ]
    },
    {
     "data": {
      "text/html": [
       "<h3>Химия</h3>"
      ],
      "text/plain": [
       "<IPython.core.display.HTML object>"
      ]
     },
     "metadata": {},
     "output_type": "display_data"
    },
    {
     "name": "stdout",
     "output_type": "stream",
     "text": [
      "материал, температура, структура, химический, вещество, соединение, поверхность, свойство, химия, молекула\n",
      "http://postnauka.ru/video/13700\n",
      "http://postnauka.ru/video/31182\n",
      "http://postnauka.ru/video/18048\n",
      "http://postnauka.ru/video/57995\n",
      "http://postnauka.ru/video/41686\n"
     ]
    },
    {
     "data": {
      "text/html": [
       "<h3>История</h3>"
      ],
      "text/plain": [
       "<IPython.core.display.HTML object>"
      ]
     },
     "metadata": {},
     "output_type": "display_data"
    },
    {
     "name": "stdout",
     "output_type": "stream",
     "text": [
      "политический, государство, власть, царь, партия, церковь, народ, правитель, император, средневековый\n",
      "http://postnauka.ru/video/9968\n",
      "http://postnauka.ru/video/28942\n",
      "http://postnauka.ru/video/31677\n",
      "http://postnauka.ru/video/23472\n",
      "http://postnauka.ru/video/16824\n"
     ]
    },
    {
     "data": {
      "text/html": [
       "<h3>Социология</h3>"
      ],
      "text/plain": [
       "<IPython.core.display.HTML object>"
      ]
     },
     "metadata": {},
     "output_type": "display_data"
    },
    {
     "name": "stdout",
     "output_type": "stream",
     "text": [
      "знание, социология, социологический, познание, школа, предмет, социолог, факультет, виктор, аргумент\n",
      "http://postnauka.ru/video/20720\n",
      "http://postnauka.ru/video/434\n",
      "http://postnauka.ru/video/6380\n",
      "http://postnauka.ru/video/7731\n",
      "http://postnauka.ru/video/12083\n"
     ]
    },
    {
     "data": {
      "text/html": [
       "<h3>Эволюция</h3>"
      ],
      "text/plain": [
       "<IPython.core.display.HTML object>"
      ]
     },
     "metadata": {},
     "output_type": "display_data"
    },
    {
     "name": "stdout",
     "output_type": "stream",
     "text": [
      "мозг, нейрон, мышление, предложение, категория, чтение, взрослый, синтаксический, синтаксис, лицо\n",
      "http://postnauka.ru/video/50793\n",
      "http://postnauka.ru/video/7068\n",
      "http://postnauka.ru/video/55068\n",
      "http://postnauka.ru/video/12521\n",
      "http://postnauka.ru/video/26207\n"
     ]
    },
    {
     "data": {
      "text/html": [
       "<h3>Мифология</h3>"
      ],
      "text/plain": [
       "<IPython.core.display.HTML object>"
      ]
     },
     "metadata": {},
     "output_type": "display_data"
    },
    {
     "name": "stdout",
     "output_type": "stream",
     "text": [
      "бог, миф, греческий, герой, мифология, религия, душа, ритуал, грек, море\n",
      "http://postnauka.ru/video/9997\n",
      "http://postnauka.ru/video/43664\n",
      "http://postnauka.ru/video/12156\n",
      "http://postnauka.ru/video/5999\n",
      "http://postnauka.ru/video/47300\n"
     ]
    },
    {
     "data": {
      "text/html": [
       "<h3>Лингвистика</h3>"
      ],
      "text/plain": [
       "<IPython.core.display.HTML object>"
      ]
     },
     "metadata": {},
     "output_type": "display_data"
    },
    {
     "name": "stdout",
     "output_type": "stream",
     "text": [
      "русский, слово, текст, словарь, перевод, корпус, гласный, согласный, говор, немецкий\n",
      "http://postnauka.ru/video/10773\n",
      "http://postnauka.ru/video/51171\n",
      "http://postnauka.ru/video/8964\n",
      "http://postnauka.ru/video/40001\n",
      "http://postnauka.ru/video/48114\n"
     ]
    },
    {
     "data": {
      "text/html": [
       "<h3>Этнология</h3>"
      ],
      "text/plain": [
       "<IPython.core.display.HTML object>"
      ]
     },
     "metadata": {},
     "output_type": "display_data"
    },
    {
     "name": "stdout",
     "output_type": "stream",
     "text": [
      "раса, трудность, африка, праздник, шаман, станислав, нос, америка, монголоид, дробышевский\n",
      "http://postnauka.ru/video/17397\n",
      "http://postnauka.ru/video/31707\n",
      "http://postnauka.ru/video/37732\n",
      "http://postnauka.ru/video/32898\n",
      "http://postnauka.ru/video/15341\n"
     ]
    },
    {
     "data": {
      "text/html": [
       "<h3>Правоведение</h3>"
      ],
      "text/plain": [
       "<IPython.core.display.HTML object>"
      ]
     },
     "metadata": {},
     "output_type": "display_data"
    },
    {
     "name": "stdout",
     "output_type": "stream",
     "text": [
      "право, римский, правовой, юрист, суд, юридический, должник, собственность, обязательство, владение\n",
      "http://postnauka.ru/video/9299\n",
      "http://postnauka.ru/video/31688\n",
      "http://postnauka.ru/video/38009\n",
      "http://postnauka.ru/video/34414\n",
      "http://postnauka.ru/video/49455\n"
     ]
    },
    {
     "data": {
      "text/html": [
       "<h3>Медицина</h3>"
      ],
      "text/plain": [
       "<IPython.core.display.HTML object>"
      ]
     },
     "metadata": {},
     "output_type": "display_data"
    },
    {
     "name": "stdout",
     "output_type": "stream",
     "text": [
      "болезнь, заболевание, пациент, лечение, врач, медицина, боль, препарат, медицинский, лекарство\n",
      "http://postnauka.ru/video/13746\n",
      "http://postnauka.ru/video/12974\n",
      "http://postnauka.ru/video/7753\n",
      "http://postnauka.ru/video/2541\n",
      "http://postnauka.ru/video/532\n"
     ]
    },
    {
     "data": {
      "text/html": [
       "<h3>Биология</h3>"
      ],
      "text/plain": [
       "<IPython.core.display.HTML object>"
      ]
     },
     "metadata": {},
     "output_type": "display_data"
    },
    {
     "name": "stdout",
     "output_type": "stream",
     "text": [
      "животное, робот, вода, растение, организм, микроорганизм, рецептор, биологический, кислород, метан\n",
      "http://postnauka.ru/video/2531\n",
      "http://postnauka.ru/video/9861\n",
      "http://postnauka.ru/video/7113\n",
      "http://postnauka.ru/video/8953\n",
      "http://postnauka.ru/video/30673\n"
     ]
    },
    {
     "data": {
      "text/html": [
       "<h3>Психология</h3>"
      ],
      "text/plain": [
       "<IPython.core.display.HTML object>"
      ]
     },
     "metadata": {},
     "output_type": "display_data"
    },
    {
     "name": "stdout",
     "output_type": "stream",
     "text": [
      "память, психология, восприятие, психологический, сознание, когнитивный, психолог, внимание, эмоциональный, зрительный\n",
      "http://postnauka.ru/video/25267\n",
      "http://postnauka.ru/video/53949\n",
      "http://postnauka.ru/video/17421\n",
      "http://postnauka.ru/video/56052\n",
      "http://postnauka.ru/video/54916\n"
     ]
    },
    {
     "data": {
      "text/html": [
       "<h3>История России</h3>"
      ],
      "text/plain": [
       "<IPython.core.display.HTML object>"
      ]
     },
     "metadata": {},
     "output_type": "display_data"
    },
    {
     "name": "stdout",
     "output_type": "stream",
     "text": [
      "германия, университет, русь, святой, князь, немецкий, андрей, византийский, апостол, польский\n",
      "http://postnauka.ru/video/3348\n",
      "http://postnauka.ru/video/24034\n",
      "http://postnauka.ru/video/24039\n",
      "http://postnauka.ru/video/19574\n",
      "http://postnauka.ru/video/32637\n"
     ]
    },
    {
     "data": {
      "text/html": [
       "<h3>Политология</h3>"
      ],
      "text/plain": [
       "<IPython.core.display.HTML object>"
      ]
     },
     "metadata": {},
     "output_type": "display_data"
    },
    {
     "name": "stdout",
     "output_type": "stream",
     "text": [
      "город, социальный, общество, наука, исторический, история, рассказывать, понятие, кандидат, политика\n",
      "http://postnauka.ru/video/12148\n",
      "http://postnauka.ru/video/7778\n",
      "http://postnauka.ru/video/9870\n",
      "http://postnauka.ru/video/5394\n",
      "http://postnauka.ru/video/9148\n"
     ]
    },
    {
     "data": {
      "text/html": [
       "<h3>Астрономия</h3>"
      ],
      "text/plain": [
       "<IPython.core.display.HTML object>"
      ]
     },
     "metadata": {},
     "output_type": "display_data"
    },
    {
     "name": "stdout",
     "output_type": "stream",
     "text": [
      "галактика, планета, земля, черный, дыра, газ, масса, диск, атмосфера, солнце\n",
      "http://postnauka.ru/video/2971\n",
      "http://postnauka.ru/video/48109\n",
      "http://postnauka.ru/video/9835\n",
      "http://postnauka.ru/video/49451\n",
      "http://postnauka.ru/video/57338\n"
     ]
    },
    {
     "data": {
      "text/html": [
       "<h3>Экономика</h3>"
      ],
      "text/plain": [
       "<IPython.core.display.HTML object>"
      ]
     },
     "metadata": {},
     "output_type": "display_data"
    },
    {
     "name": "stdout",
     "output_type": "stream",
     "text": [
      "решение, экономический, экономика, деньги, компания, принятие, оценка, критерий, рынок, выбор\n",
      "http://postnauka.ru/video/26616\n",
      "http://postnauka.ru/video/24286\n",
      "http://postnauka.ru/video/53415\n",
      "http://postnauka.ru/video/5465\n",
      "http://postnauka.ru/video/13152\n"
     ]
    },
    {
     "data": {
      "text/html": [
       "<h3>Институт семьи</h3>"
      ],
      "text/plain": [
       "<IPython.core.display.HTML object>"
      ]
     },
     "metadata": {},
     "output_type": "display_data"
    },
    {
     "name": "stdout",
     "output_type": "stream",
     "text": [
      "ребенок, женщина, поведение, семья, эмоция, личность, мужчина, коллективный, конфликт, мать\n",
      "http://postnauka.ru/video/22892\n",
      "http://postnauka.ru/video/26223\n",
      "http://postnauka.ru/video/21643\n",
      "http://postnauka.ru/video/52948\n",
      "http://postnauka.ru/video/30678\n"
     ]
    },
    {
     "data": {
      "text/html": [
       "<h3>Информатика</h3>"
      ],
      "text/plain": [
       "<IPython.core.display.HTML object>"
      ]
     },
     "metadata": {},
     "output_type": "display_data"
    },
    {
     "name": "stdout",
     "output_type": "stream",
     "text": [
      "задача, данные, компьютер, сеть, программа, компьютерный, алгоритм, интеллект, искусственный, интернет\n",
      "http://postnauka.ru/video/8313\n",
      "http://postnauka.ru/video/24306\n",
      "http://postnauka.ru/video/32901\n",
      "http://postnauka.ru/video/9998\n",
      "http://postnauka.ru/video/12172\n"
     ]
    },
    {
     "data": {
      "text/html": [
       "<h3>Государство</h3>"
      ],
      "text/plain": [
       "<IPython.core.display.HTML object>"
      ]
     },
     "metadata": {},
     "output_type": "display_data"
    },
    {
     "name": "stdout",
     "output_type": "stream",
     "text": [
      "территория, империя, восток, древний, письменность, китай, памятник, северный, восточный, китайский\n",
      "http://postnauka.ru/video/53171\n",
      "http://postnauka.ru/video/5891\n",
      "http://postnauka.ru/video/59201\n",
      "http://postnauka.ru/video/2527\n",
      "http://postnauka.ru/video/51380\n"
     ]
    },
    {
     "data": {
      "text/html": [
       "<h3>Генетика</h3>"
      ],
      "text/plain": [
       "<IPython.core.display.HTML object>"
      ]
     },
     "metadata": {},
     "output_type": "display_data"
    },
    {
     "name": "stdout",
     "output_type": "stream",
     "text": [
      "клетка, ген, днк, белок, организм, генетический, молекула, геном, бактерия, рнк\n",
      "http://postnauka.ru/video/5915\n",
      "http://postnauka.ru/video/5390\n",
      "http://postnauka.ru/video/19436\n",
      "http://postnauka.ru/video/17051\n",
      "http://postnauka.ru/video/10475\n"
     ]
    },
    {
     "data": {
      "text/html": [
       "<h3>Квантовая физика</h3>"
      ],
      "text/plain": [
       "<IPython.core.display.HTML object>"
      ]
     },
     "metadata": {},
     "output_type": "display_data"
    },
    {
     "name": "stdout",
     "output_type": "stream",
     "text": [
      "квантовый, поле, атом, магнитный, электрон, свет, волна, фотон, эффект, измерение\n",
      "http://postnauka.ru/video/21662\n",
      "http://postnauka.ru/video/25875\n",
      "http://postnauka.ru/video/19457\n",
      "http://postnauka.ru/video/25902\n",
      "http://postnauka.ru/video/19509\n"
     ]
    },
    {
     "data": {
      "text/html": [
       "<h3>Философия</h3>"
      ],
      "text/plain": [
       "<IPython.core.display.HTML object>"
      ]
     },
     "metadata": {},
     "output_type": "display_data"
    },
    {
     "name": "stdout",
     "output_type": "stream",
     "text": [
      "культура, философия, философский, литература, философ, литературный, произведение, роман, автор, платон\n",
      "http://postnauka.ru/video/12738\n",
      "http://postnauka.ru/video/2524\n",
      "http://postnauka.ru/video/2529\n",
      "http://postnauka.ru/video/9728\n",
      "http://postnauka.ru/video/7764\n"
     ]
    },
    {
     "data": {
      "text/html": [
       "<h3>История Франции</h3>"
      ],
      "text/plain": [
       "<IPython.core.display.HTML object>"
      ]
     },
     "metadata": {},
     "output_type": "display_data"
    },
    {
     "name": "stdout",
     "output_type": "stream",
     "text": [
      "революция, король, страна, государственный, французский, реформа, петр, франция, против, сталин\n",
      "http://postnauka.ru/video/53577\n",
      "http://postnauka.ru/video/36246\n",
      "http://postnauka.ru/video/48492\n",
      "http://postnauka.ru/video/47823\n",
      "http://postnauka.ru/video/51331\n"
     ]
    },
    {
     "data": {
      "text/html": [
       "<h3>История России</h3>"
      ],
      "text/plain": [
       "<IPython.core.display.HTML object>"
      ]
     },
     "metadata": {},
     "output_type": "display_data"
    },
    {
     "name": "stdout",
     "output_type": "stream",
     "text": [
      "война, россия, советский, мировой, военный, союз, гражданский, песня, армия, обряд\n",
      "http://postnauka.ru/video/25906\n",
      "http://postnauka.ru/video/25097\n",
      "http://postnauka.ru/video/34413\n",
      "http://postnauka.ru/video/46939\n",
      "http://postnauka.ru/video/52936\n"
     ]
    },
    {
     "data": {
      "text/html": [
       "<h3>Лингвистиа</h3>"
      ],
      "text/plain": [
       "<IPython.core.display.HTML object>"
      ]
     },
     "metadata": {},
     "output_type": "display_data"
    },
    {
     "name": "stdout",
     "output_type": "stream",
     "text": [
      "язык, христианский, лингвист, христианство, глагол, лингвистика, языковой, христианин, грамматика, филологический\n",
      "http://postnauka.ru/video/7755\n",
      "http://postnauka.ru/video/13041\n",
      "http://postnauka.ru/video/55301\n",
      "http://postnauka.ru/video/10473\n",
      "http://postnauka.ru/video/52778\n"
     ]
    },
    {
     "data": {
      "text/html": [
       "<h3>Математика</h3>"
      ],
      "text/plain": [
       "<IPython.core.display.HTML object>"
      ]
     },
     "metadata": {},
     "output_type": "display_data"
    },
    {
     "name": "stdout",
     "output_type": "stream",
     "text": [
      "теория, пространство, математический, уравнение, матрица, математика, описывать, описание, эйнштейн, относительность\n",
      "http://postnauka.ru/video/3388\n",
      "http://postnauka.ru/video/57128\n",
      "http://postnauka.ru/video/36804\n",
      "http://postnauka.ru/video/55069\n",
      "http://postnauka.ru/video/18086\n"
     ]
    },
    {
     "data": {
      "text/html": [
       "<h3>Театральное искусство</h3>"
      ],
      "text/plain": [
       "<IPython.core.display.HTML object>"
      ]
     },
     "metadata": {},
     "output_type": "display_data"
    },
    {
     "name": "stdout",
     "output_type": "stream",
     "text": [
      "театр, костюм, актер, пьеса, театральный, сцена, фильтр, скелет, телесный, зритель\n",
      "http://postnauka.ru/video/40004\n",
      "http://postnauka.ru/video/43843\n",
      "http://postnauka.ru/video/31228\n",
      "http://postnauka.ru/video/49866\n",
      "http://postnauka.ru/video/57127\n"
     ]
    },
    {
     "data": {
      "text/html": [
       "<h3>Астрономия</h3>"
      ],
      "text/plain": [
       "<IPython.core.display.HTML object>"
      ]
     },
     "metadata": {},
     "output_type": "display_data"
    },
    {
     "name": "stdout",
     "output_type": "stream",
     "text": [
      "звезда, вселенная, излучение, скорость, объект, телескоп, космический, белый, гравитационный, нейтронный\n",
      "http://postnauka.ru/video/53693\n",
      "http://postnauka.ru/video/6673\n",
      "http://postnauka.ru/video/7067\n",
      "http://postnauka.ru/video/30015\n",
      "http://postnauka.ru/video/17779\n"
     ]
    },
    {
     "data": {
      "text/html": [
       "<h3>Кинематограф</h3>"
      ],
      "text/plain": [
       "<IPython.core.display.HTML object>"
      ]
     },
     "metadata": {},
     "output_type": "display_data"
    },
    {
     "name": "stdout",
     "output_type": "stream",
     "text": [
      "фильм, свобода, кино, кинематограф, культовый, климат, глобальный, бердяев, вечный, жанр\n",
      "http://postnauka.ru/video/5396\n",
      "http://postnauka.ru/video/9429\n",
      "http://postnauka.ru/video/13098\n",
      "http://postnauka.ru/video/10779\n",
      "http://postnauka.ru/video/39723\n"
     ]
    },
    {
     "data": {
      "text/html": [
       "PGgzPtCk0L7QvdC+0LLQsNGPINGC0LXQvNCwPC9oMz4=\n"
      ],
      "text/plain": [
       "<IPython.core.display.HTML object>"
      ]
     },
     "metadata": {},
     "output_type": "display_data"
    },
    {
     "name": "stdout",
     "output_type": "stream",
     "text": [
      "быть, что, это, который, этот, как, они, мочь, такой, очень\n",
      "http://postnauka.ru/video/51365\n",
      "http://postnauka.ru/video/58752\n",
      "http://postnauka.ru/video/42436\n",
      "http://postnauka.ru/video/49851\n",
      "http://postnauka.ru/video/23886\n"
     ]
    }
   ],
   "source": [
    "# Ваш код\n",
    "tokens = model_artm.score_tracker[\"top_words_text\"].last_tokens\n",
    "pre_dict = np.array([[index, row.sort_values(ascending=False).head().index.values] for index, row in p_dt.iterrows()])\n",
    "dictionary = {key: value for (key, value) in zip(pre_dict[:,0], pre_dict[:,1])}\n",
    "\n",
    "for i, topic in enumerate(p_dt.index):    \n",
    "    display(HTML(\"<h3>%s</h3>\" % topic_labels[i]))\n",
    "    print(', '.join(tokens[topic][:10]))\n",
    "    for a in dictionary[topic]:\n",
    "        print(a)\n"
   ]
  },
  {
   "cell_type": "markdown",
   "metadata": {},
   "source": [
    "##### Заключение"
   ]
  },
  {
   "cell_type": "markdown",
   "metadata": {},
   "source": [
    "В этом Peer Review мы познакомились с базовыми возможностями библиотеки BigARTM и с методами визуализации тематических моделей. Визуализация тематических моделей - это широкая и активно развивающаяся область научных исследований. Мы рассмотрели только самые простые приемы. Желающие могут попробовать применить [Serendip](http://vep.cs.wisc.edu/serendip/#serendipHero), разработанный в  University of Wisconsin-Madison, к построенной модели. Эта библиотека позволяет максимально полно охарактеризовать темы и написана для языка python. \n",
    "\n",
    "Сделав задание, вы можете выбрать в навигаторе наиболее интересную для вас тему и посмотреть видеолекции :) На Постнауке очень много интересных материалов. "
   ]
  }
 ],
 "metadata": {
  "kernelspec": {
   "display_name": "Python 2",
   "language": "python",
   "name": "python2"
  },
  "language_info": {
   "codemirror_mode": {
    "name": "ipython",
    "version": 2
   },
   "file_extension": ".py",
   "mimetype": "text/x-python",
   "name": "python",
   "nbconvert_exporter": "python",
   "pygments_lexer": "ipython2",
   "version": "2.7.16"
  }
 },
 "nbformat": 4,
 "nbformat_minor": 1
}
